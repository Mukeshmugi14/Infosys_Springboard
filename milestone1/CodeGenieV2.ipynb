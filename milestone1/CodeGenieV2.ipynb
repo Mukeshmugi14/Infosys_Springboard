{
  "nbformat": 4,
  "nbformat_minor": 0,
  "metadata": {
    "colab": {
      "provenance": []
    },
    "kernelspec": {
      "name": "python3",
      "display_name": "Python 3"
    },
    "language_info": {
      "name": "python"
    }
  },
  "cells": [
    {
      "cell_type": "code",
      "execution_count": 4,
      "metadata": {
        "colab": {
          "base_uri": "https://localhost:8080/"
        },
        "id": "MAP5x0C7jrio",
        "outputId": "739d5203-0426-4cfc-f88b-32a159d6cdfe"
      },
      "outputs": [
        {
          "output_type": "stream",
          "name": "stdout",
          "text": [
            "[✓] Setup complete\n"
          ]
        }
      ],
      "source": [
        "!pip install sentence-transformers nltk textstat pandas matplotlib wordcloud --quiet\n",
        "\n",
        "# Imports\n",
        "import nltk\n",
        "import re\n",
        "from sentence_transformers import SentenceTransformer\n",
        "import pandas as pd\n",
        "import ast\n",
        "import tokenize\n",
        "import io\n",
        "from collections import Counter\n",
        "import matplotlib.pyplot as plt\n",
        "from wordcloud import WordCloud, STOPWORDS\n",
        "\n",
        "# Download NLTK data, including punkt_tab\n",
        "try:\n",
        "    nltk.download('punkt_tab', quiet=True)\n",
        "    nltk.download('stopwords', quiet=True)\n",
        "except Exception as e:\n",
        "    print(f\"Error downloading NLTK data: {e}\")\n",
        "print(\"[✓] Setup complete\")"
      ]
    },
    {
      "cell_type": "code",
      "source": [
        "Master_codes = [\n",
        "    \"\"\"1. Swap Two Variables Without a Temporary Variable\n",
        "a = 5\n",
        "b = 10\n",
        "a, b = b, a\n",
        "print(\"After swapping: a =\", a, \"b =\", b)\n",
        "\"\"\",\n",
        "\n",
        "\n",
        "\"\"\"2. Check if a Number is Even or Odd\n",
        "num = int(input(\"Enter a number: \"))\n",
        "if num % 2 == 0:\n",
        "    print(num, \"is even\")\n",
        "else:\n",
        "    print(num, \"is odd\")\n",
        "    \"\"\",\n",
        "\n",
        "\n",
        "\n",
        "\"\"\" 3. Leap Year Checker\n",
        "year = int(input(\"Enter a year: \"))\n",
        "if (year % 4 == 0 and year % 100 != 0) or (year % 400 == 0):\n",
        "    print(year, \"is a leap year\")\n",
        "else:\n",
        "    print(year, \"is not a leap year\")\n",
        "    \"\"\",\n",
        "\n",
        "\n",
        "\n",
        "\"\"\" 4. Print Multiplication Table\n",
        "num = int(input(\"Enter a number: \"))\n",
        "for i in range(1, 11):\n",
        "    print(num, \"x\", i, \"=\", num * i)\n",
        "    \"\"\",\n",
        "\n",
        "\n",
        "\n",
        "\"\"\"5. Palindrome Checker\n",
        "text = input(\"Enter a word: \")\n",
        "if text == text[::-1]:\n",
        "    print(\"It's a palindrome\")\n",
        "else:\n",
        "    print(\"Not a palindrome\")\"\"\",\n",
        "\n",
        "\"\"\"6. Find the Largest of Three Numbers\n",
        "a = int(input(\"Enter first number: \"))\n",
        "b = int(input(\"Enter second number: \"))\n",
        "c = int(input(\"Enter third number: \"))\n",
        "largest = max(a, b, c)\n",
        "print(\"The largest number is:\", largest)\n",
        "\"\"\",\n",
        "\n",
        "\n",
        "\n",
        "\"\"\" 7. Calculate Simple Interest\n",
        "principal = float(input(\"Enter principal amount: \"))\n",
        "rate = float(input(\"Enter annual interest rate (%): \"))\n",
        "time = float(input(\"Enter time in years: \"))\n",
        "simple_interest = (principal * rate * time) / 100\n",
        "print(\"Simple Interest is:\", simple_interest)\n",
        "\"\"\",\n",
        "\n",
        "\n",
        "\n",
        "\"\"\" 8. Count Words in a Sentence\n",
        "sentence = input(\"Enter a sentence: \")\n",
        "words = sentence.split()\n",
        "print(\"Number of words:\", len(words))\n",
        "\"\"\",\n",
        "\n",
        "\n",
        "\n",
        "\"\"\"9. Check if a Number is Armstrong\n",
        "num = int(input(\"Enter a number: \"))\n",
        "sum = 0\n",
        "temp = num\n",
        "while temp > 0:\n",
        "    digit = temp % 10\n",
        "    sum += digit ** 3\n",
        "    temp //= 10\n",
        "if num == sum:\n",
        "    print(num, \"is an Armstrong number\")\n",
        "else:\n",
        "    print(num, \"is not an Armstrong number\")\n",
        "    \"\"\",\n",
        "\n",
        "\n",
        "\n",
        "\"\"\"10. Convert Celsius to Fahrenheit\n",
        "celsius = float(input(\"Enter temperature in Celsius: \"))\n",
        "fahrenheit = (celsius * 9/5) + 32\n",
        "print(\"Temperature in Fahrenheit:\", fahrenheit)\n",
        "\"\"\"\n",
        "]\n",
        "\n",
        "Master_names = [f\"Program_{i+1}\" for i in range(len(Master_codes))]\n",
        "\n",
        "print(\"Top 10 Example of Code Masters:\")\n",
        "for name, text in zip(Master_names, Master_codes):\n",
        "    print(f\"{name}: {len(text)} characters\")\n",
        "\n",
        "\n",
        "\n",
        "\n",
        "\n",
        "\n"
      ],
      "metadata": {
        "colab": {
          "base_uri": "https://localhost:8080/"
        },
        "id": "fER9MNxckMvO",
        "outputId": "b9aefd4d-eb6c-4455-b3ba-eb6604a96c6c"
      },
      "execution_count": 5,
      "outputs": [
        {
          "output_type": "stream",
          "name": "stdout",
          "text": [
            "Top 10 Example of Code Masters:\n",
            "Program_1: 118 characters\n",
            "Program_2: 151 characters\n",
            "Program_3: 201 characters\n",
            "Program_4: 132 characters\n",
            "Program_5: 142 characters\n",
            "Program_6: 219 characters\n",
            "Program_7: 280 characters\n",
            "Program_8: 132 characters\n",
            "Program_9: 277 characters\n",
            "Program_10: 173 characters\n"
          ]
        }
      ]
    },
    {
      "cell_type": "code",
      "source": [
        "class CodeExplainer:\n",
        "    def __init__(self):\n",
        "        self.models = {\n",
        "            'MiniLM': SentenceTransformer('all-MiniLM-L12-v2'),\n",
        "            'DistilRoBERTa': SentenceTransformer('all-distilroberta-v1'),\n",
        "            'MPNet': SentenceTransformer('all-mpnet-base-v2')\n",
        "        }\n",
        "        self.explanation_templates = {\n",
        "            'def': [\n",
        "                \"Defines function '{}' with parameters\",  # MiniLM\n",
        "                \"Creates a function '{}' for computation\",  # DistilRoBERTa\n",
        "                \"Sets up function '{}' to perform a task\"  # MPNet\n",
        "            ],\n",
        "            'if': [\n",
        "                \"Evaluates condition: '{}'\",\n",
        "                \"Checks if: '{}'\",\n",
        "                \"Tests condition: '{}'\"\n",
        "            ],\n",
        "            'elif': [\n",
        "                \"Evaluates additional condition: '{}'\",\n",
        "                \"Checks another condition: '{}'\",\n",
        "                \"Tests further condition: '{}'\"\n",
        "            ],\n",
        "            'else': [\n",
        "                \"Handles alternative case when conditions fail\",\n",
        "                \"Executes if prior conditions are false\",\n",
        "                \"Catches remaining cases\"\n",
        "            ],\n",
        "            'for': [\n",
        "                \"Loops over sequence: '{}'\",\n",
        "                \"Iterates through: '{}'\",\n",
        "                \"Performs iteration: '{}'\"\n",
        "            ],\n",
        "            'while': [\n",
        "                \"Loops while: '{}'\",\n",
        "                \"Continues looping if: '{}'\",\n",
        "                \"Repeats until condition changes: '{}'\"\n",
        "            ],\n",
        "            'assign': [\n",
        "                \"Assigns value to '{}'\",\n",
        "                \"Sets variable '{}' to a value\",\n",
        "                \"Stores result in '{}'\"\n",
        "            ],\n",
        "            'print': [\n",
        "                \"Outputs: '{}'\",\n",
        "                \"Displays to console: '{}'\",\n",
        "                \"Prints result: '{}'\"\n",
        "            ],\n",
        "            'return': [\n",
        "                \"Returns: '{}'\",\n",
        "                \"Yields value: '{}'\",\n",
        "                \"Provides output: '{}'\"\n",
        "            ],\n",
        "            'default': [\n",
        "                \"Executes: '{}'\",\n",
        "                \"Performs operation: '{}'\",\n",
        "                \"Runs code: '{}'\"\n",
        "            ]\n",
        "        }\n",
        "\n",
        "    def explain_line(self, line, model_name):\n",
        "        line = line.strip()\n",
        "        if not line or line.startswith('#'):\n",
        "            return None\n",
        "        # Mock semantic analysis: Use model index to select explanation variant\n",
        "        model_index = {'MiniLM': 0, 'DistilRoBERTa': 1, 'MPNet': 2}\n",
        "        idx = model_index[model_name]\n",
        "        # Compute embedding for context (mock usage)\n",
        "        self.models[model_name].encode([line])[0]\n",
        "        if line.startswith('def '):\n",
        "            return self.explanation_templates['def'][idx].format(line.split('(')[0].replace('def ', ''))\n",
        "        elif line.startswith('if '):\n",
        "            return self.explanation_templates['if'][idx].format(line)\n",
        "        elif line.startswith('elif '):\n",
        "            return self.explanation_templates['elif'][idx].format(line)\n",
        "        elif line.startswith('else:'):\n",
        "            return self.explanation_templates['else'][idx]\n",
        "        elif line.startswith('for '):\n",
        "            return self.explanation_templates['for'][idx].format(line)\n",
        "        elif line.startswith('while '):\n",
        "            return self.explanation_templates['while'][idx].format(line)\n",
        "        elif '=' in line and not line.startswith('print'):\n",
        "            return self.explanation_templates['assign'][idx].format(line.split('=')[0].strip())\n",
        "        elif line.startswith('print'):\n",
        "            return self.explanation_templates['print'][idx].format(line)\n",
        "        elif line.startswith('return'):\n",
        "            return self.explanation_templates['return'][idx].format(line)\n",
        "        return self.explanation_templates['default'][idx].format(line)\n",
        "\n",
        "    def explain_code(self, code_text, model_name):\n",
        "        explanations = {}\n",
        "        for i, line in enumerate(code_text.splitlines(), 1):\n",
        "            explanation = self.explain_line(line, model_name)\n",
        "            if explanation:\n",
        "                explanations[i] = explanation\n",
        "        return explanations\n",
        "\n",
        "    def compare_explanations(self, code_text, snippet_name):\n",
        "        # Generate explanations for the code snippet using all three models\n",
        "        explanations = {\n",
        "            model_name: self.explain_code(code_text, model_name)\n",
        "            for model_name in self.models.keys()\n",
        "        }\n",
        "        # Create a DataFrame to compare explanations line by line\n",
        "        comparison_data = []\n",
        "        for line_num in sorted(set(sum([list(exp.keys()) for exp in explanations.values()], []))):\n",
        "            row = {'Line Number': line_num, 'Code': code_text.splitlines()[line_num-1].strip()}\n",
        "            for model_name in self.models.keys():\n",
        "                row[model_name] = explanations[model_name].get(line_num, \"No explanation\")\n",
        "            comparison_data.append(row)\n",
        "        return pd.DataFrame(comparison_data)\n",
        "\n",
        "explainer = CodeExplainer()\n",
        "\n",
        "# Generate and compare explanations for all snippets\n",
        "comparisons = []\n",
        "for name, text in zip(Master_codes ,Master_names ):\n",
        "    comparison_df = explainer.compare_explanations(text, name)\n",
        "    comparisons.append((name, comparison_df))\n",
        "\n",
        "# Print comparison for Program 1\n",
        "print(\"\\nExplanation Comparison for Program_1:\")\n",
        "print(comparisons[0][1].to_string(index=False))\n",
        "\n",
        "# Print summary of differences for all snippets\n",
        "print(\"\\nSummary of Explanation Differences:\")\n",
        "for name, df in comparisons:\n",
        "    print(f\"\\n{name}:\")\n",
        "    differing_lines = df[df['MiniLM'] != df['DistilRoBERTa']][['Line Number', 'Code', 'MiniLM', 'DistilRoBERTa', 'MPNet']]\n",
        "    if not differing_lines.empty:\n",
        "        print(\"Lines with differing explanations:\")\n",
        "        print(differing_lines.to_string(index=False))\n",
        "    else:\n",
        "        print(\"All models provided identical explanations.\")"
      ],
      "metadata": {
        "colab": {
          "base_uri": "https://localhost:8080/"
        },
        "id": "Cl-M1BzknYhH",
        "outputId": "99834246-febc-4bb1-b10a-0efb661ccef5"
      },
      "execution_count": 6,
      "outputs": [
        {
          "output_type": "stream",
          "name": "stdout",
          "text": [
            "\n",
            "Explanation Comparison for Program_1:\n",
            " Line Number      Code                MiniLM                   DistilRoBERTa                  MPNet\n",
            "           1 Program_1 Executes: 'Program_1' Performs operation: 'Program_1' Runs code: 'Program_1'\n",
            "\n",
            "Summary of Explanation Differences:\n",
            "\n",
            "1. Swap Two Variables Without a Temporary Variable\n",
            "a = 5\n",
            "b = 10\n",
            "a, b = b, a\n",
            "print(\"After swapping: a =\", a, \"b =\", b)\n",
            ":\n",
            "Lines with differing explanations:\n",
            " Line Number      Code                MiniLM                   DistilRoBERTa                  MPNet\n",
            "           1 Program_1 Executes: 'Program_1' Performs operation: 'Program_1' Runs code: 'Program_1'\n",
            "\n",
            "2. Check if a Number is Even or Odd\n",
            "num = int(input(\"Enter a number: \"))\n",
            "if num % 2 == 0:\n",
            "    print(num, \"is even\")\n",
            "else:\n",
            "    print(num, \"is odd\")\n",
            "    :\n",
            "Lines with differing explanations:\n",
            " Line Number      Code                MiniLM                   DistilRoBERTa                  MPNet\n",
            "           1 Program_2 Executes: 'Program_2' Performs operation: 'Program_2' Runs code: 'Program_2'\n",
            "\n",
            " 3. Leap Year Checker\n",
            "year = int(input(\"Enter a year: \"))\n",
            "if (year % 4 == 0 and year % 100 != 0) or (year % 400 == 0):\n",
            "    print(year, \"is a leap year\")\n",
            "else:\n",
            "    print(year, \"is not a leap year\")\n",
            "    :\n",
            "Lines with differing explanations:\n",
            " Line Number      Code                MiniLM                   DistilRoBERTa                  MPNet\n",
            "           1 Program_3 Executes: 'Program_3' Performs operation: 'Program_3' Runs code: 'Program_3'\n",
            "\n",
            " 4. Print Multiplication Table\n",
            "num = int(input(\"Enter a number: \"))\n",
            "for i in range(1, 11):\n",
            "    print(num, \"x\", i, \"=\", num * i)\n",
            "    :\n",
            "Lines with differing explanations:\n",
            " Line Number      Code                MiniLM                   DistilRoBERTa                  MPNet\n",
            "           1 Program_4 Executes: 'Program_4' Performs operation: 'Program_4' Runs code: 'Program_4'\n",
            "\n",
            "5. Palindrome Checker\n",
            "text = input(\"Enter a word: \")\n",
            "if text == text[::-1]:\n",
            "    print(\"It's a palindrome\")\n",
            "else:\n",
            "    print(\"Not a palindrome\"):\n",
            "Lines with differing explanations:\n",
            " Line Number      Code                MiniLM                   DistilRoBERTa                  MPNet\n",
            "           1 Program_5 Executes: 'Program_5' Performs operation: 'Program_5' Runs code: 'Program_5'\n",
            "\n",
            "6. Find the Largest of Three Numbers\n",
            "a = int(input(\"Enter first number: \"))\n",
            "b = int(input(\"Enter second number: \"))\n",
            "c = int(input(\"Enter third number: \"))\n",
            "largest = max(a, b, c)\n",
            "print(\"The largest number is:\", largest)\n",
            ":\n",
            "Lines with differing explanations:\n",
            " Line Number      Code                MiniLM                   DistilRoBERTa                  MPNet\n",
            "           1 Program_6 Executes: 'Program_6' Performs operation: 'Program_6' Runs code: 'Program_6'\n",
            "\n",
            " 7. Calculate Simple Interest\n",
            "principal = float(input(\"Enter principal amount: \"))\n",
            "rate = float(input(\"Enter annual interest rate (%): \"))\n",
            "time = float(input(\"Enter time in years: \"))\n",
            "simple_interest = (principal * rate * time) / 100\n",
            "print(\"Simple Interest is:\", simple_interest)\n",
            ":\n",
            "Lines with differing explanations:\n",
            " Line Number      Code                MiniLM                   DistilRoBERTa                  MPNet\n",
            "           1 Program_7 Executes: 'Program_7' Performs operation: 'Program_7' Runs code: 'Program_7'\n",
            "\n",
            " 8. Count Words in a Sentence\n",
            "sentence = input(\"Enter a sentence: \")\n",
            "words = sentence.split()\n",
            "print(\"Number of words:\", len(words))\n",
            ":\n",
            "Lines with differing explanations:\n",
            " Line Number      Code                MiniLM                   DistilRoBERTa                  MPNet\n",
            "           1 Program_8 Executes: 'Program_8' Performs operation: 'Program_8' Runs code: 'Program_8'\n",
            "\n",
            "9. Check if a Number is Armstrong\n",
            "num = int(input(\"Enter a number: \"))\n",
            "sum = 0\n",
            "temp = num\n",
            "while temp > 0:\n",
            "    digit = temp % 10\n",
            "    sum += digit ** 3\n",
            "    temp //= 10\n",
            "if num == sum:\n",
            "    print(num, \"is an Armstrong number\")\n",
            "else:\n",
            "    print(num, \"is not an Armstrong number\")\n",
            "    :\n",
            "Lines with differing explanations:\n",
            " Line Number      Code                MiniLM                   DistilRoBERTa                  MPNet\n",
            "           1 Program_9 Executes: 'Program_9' Performs operation: 'Program_9' Runs code: 'Program_9'\n",
            "\n",
            "10. Convert Celsius to Fahrenheit\n",
            "celsius = float(input(\"Enter temperature in Celsius: \"))\n",
            "fahrenheit = (celsius * 9/5) + 32\n",
            "print(\"Temperature in Fahrenheit:\", fahrenheit)\n",
            ":\n",
            "Lines with differing explanations:\n",
            " Line Number       Code                 MiniLM                    DistilRoBERTa                   MPNet\n",
            "           1 Program_10 Executes: 'Program_10' Performs operation: 'Program_10' Runs code: 'Program_10'\n"
          ]
        }
      ]
    },
    {
      "cell_type": "markdown",
      "metadata": {
        "id": "bab34971"
      },
      "source": [
        "# Task\n",
        "Integrate the code comparison functionality into a Gradio interface."
      ]
    },
    {
      "cell_type": "markdown",
      "metadata": {
        "id": "1f63d289"
      },
      "source": [
        "## Install gradio\n",
        "\n",
        "### Subtask:\n",
        "Install the Gradio library.\n"
      ]
    },
    {
      "cell_type": "markdown",
      "metadata": {
        "id": "8f45cf16"
      },
      "source": [
        "**Reasoning**:\n",
        "The subtask is to install the Gradio library. I will use pip to install it.\n",
        "\n"
      ]
    },
    {
      "cell_type": "code",
      "metadata": {
        "id": "500c5d8b"
      },
      "source": [
        "!pip install gradio --quiet"
      ],
      "execution_count": 7,
      "outputs": []
    },
    {
      "cell_type": "markdown",
      "metadata": {
        "id": "1172109e"
      },
      "source": [
        "## Define gradio interface function\n",
        "\n",
        "### Subtask:\n",
        "Create a function that takes code text and model names as input and returns the comparison DataFrame.\n"
      ]
    },
    {
      "cell_type": "markdown",
      "metadata": {
        "id": "93266261"
      },
      "source": [
        "**Reasoning**:\n",
        "Define a function `get_code_comparison` that takes code text and model names, instantiates `CodeExplainer`, calls `compare_explanations`, and returns the resulting DataFrame.\n",
        "\n"
      ]
    },
    {
      "cell_type": "code",
      "metadata": {
        "id": "d2ac1f3e"
      },
      "source": [
        "def get_code_comparison(code_text, model_names):\n",
        "    explainer = CodeExplainer()\n",
        "    # We need to provide a snippet_name, but it's not used in compare_explanations logic\n",
        "    comparison_df = explainer.compare_explanations(code_text, \"User Code Snippet\")\n",
        "    # Filter the DataFrame to only include the specified model names\n",
        "    if model_names:\n",
        "        # Ensure 'Line Number' and 'Code' columns are always included\n",
        "        cols_to_keep = ['Line Number', 'Code'] + model_names\n",
        "        comparison_df = comparison_df[cols_to_keep]\n",
        "    return comparison_df"
      ],
      "execution_count": 8,
      "outputs": []
    },
    {
      "cell_type": "markdown",
      "metadata": {
        "id": "fd1eea1a"
      },
      "source": [
        "## Create gradio interface\n",
        "\n",
        "### Subtask:\n",
        "Define the Gradio interface using the function created in the previous step.\n"
      ]
    },
    {
      "cell_type": "markdown",
      "metadata": {
        "id": "dca1728d"
      },
      "source": [
        "**Reasoning**:\n",
        "Define the Gradio interface using the `get_code_comparison` function and the specified inputs, outputs, title, and example.\n",
        "\n"
      ]
    },
    {
      "cell_type": "code",
      "metadata": {
        "id": "52ac3460"
      },
      "source": [
        "import gradio as gr\n",
        "\n",
        "model_choices = list(explainer.models.keys())\n",
        "\n",
        "iface = gr.Interface(\n",
        "    fn=get_code_comparison,\n",
        "    inputs=[\n",
        "        gr.Textbox(label=\"Enter Python Code\", lines=20),\n",
        "        gr.CheckboxGroup(choices=model_choices, label=\"Select Models to Compare\", value=model_choices)\n",
        "    ],\n",
        "    outputs=gr.DataFrame(label=\"Explanation Comparison\"),\n",
        "    title=\"Code Explanation Comparison Tool\",\n",
        "    examples=[[Master_codes[0], model_choices]]\n",
        ")"
      ],
      "execution_count": 9,
      "outputs": []
    },
    {
      "cell_type": "markdown",
      "metadata": {
        "id": "e20a01cc"
      },
      "source": [
        "## Launch interface\n",
        "\n",
        "### Subtask:\n",
        "Launch the Gradio interface.\n"
      ]
    },
    {
      "cell_type": "markdown",
      "metadata": {
        "id": "c87cd8e4"
      },
      "source": [
        "**Reasoning**:\n",
        "Launch the Gradio interface so the user can interact with it.\n",
        "\n"
      ]
    },
    {
      "cell_type": "code",
      "metadata": {
        "colab": {
          "base_uri": "https://localhost:8080/",
          "height": 611
        },
        "id": "8d4d57d3",
        "outputId": "dd33857b-2043-4262-f144-e222266e388f"
      },
      "source": [
        "iface.launch(share=True)"
      ],
      "execution_count": 10,
      "outputs": [
        {
          "output_type": "stream",
          "name": "stdout",
          "text": [
            "Colab notebook detected. To show errors in colab notebook, set debug=True in launch()\n",
            "* Running on public URL: https://b1e75e71e60f02f0c4.gradio.live\n",
            "\n",
            "This share link expires in 1 week. For free permanent hosting and GPU upgrades, run `gradio deploy` from the terminal in the working directory to deploy to Hugging Face Spaces (https://huggingface.co/spaces)\n"
          ]
        },
        {
          "output_type": "display_data",
          "data": {
            "text/plain": [
              "<IPython.core.display.HTML object>"
            ],
            "text/html": [
              "<div><iframe src=\"https://b1e75e71e60f02f0c4.gradio.live\" width=\"100%\" height=\"500\" allow=\"autoplay; camera; microphone; clipboard-read; clipboard-write;\" frameborder=\"0\" allowfullscreen></iframe></div>"
            ]
          },
          "metadata": {}
        },
        {
          "output_type": "execute_result",
          "data": {
            "text/plain": []
          },
          "metadata": {},
          "execution_count": 10
        }
      ]
    },
    {
      "cell_type": "markdown",
      "metadata": {
        "id": "e3d28a77"
      },
      "source": [
        "## Summary:\n",
        "\n",
        "### Data Analysis Key Findings\n",
        "\n",
        "*   The Gradio library was successfully installed using `pip install gradio --quiet`.\n",
        "*   A Python function `get_code_comparison` was defined to take code text and a list of model names as input, and return a pandas DataFrame comparing the explanations from the selected models.\n",
        "*   The Gradio interface `iface` was created using `gr.Interface`, connecting the `get_code_comparison` function to a textbox input for code, a checkbox group for model selection, and a DataFrame output to display the results.\n",
        "*   The Gradio interface was successfully launched and made publicly accessible via a shareable URL.\n",
        "\n",
        "### Insights or Next Steps\n",
        "\n",
        "*   The created Gradio interface provides a user-friendly way to compare code explanations from different models side-by-side.\n",
        "*   Further enhancements could include adding more models for comparison or allowing users to provide custom model outputs for comparison.\n"
      ]
    }
  ]
}